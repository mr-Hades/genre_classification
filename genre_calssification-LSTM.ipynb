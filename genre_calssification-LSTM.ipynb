{
 "cells": [
  {
   "cell_type": "code",
   "execution_count": 1,
   "metadata": {
    "ExecuteTime": {
     "end_time": "2021-01-15T17:08:46.058277Z",
     "start_time": "2021-01-15T17:08:45.109942Z"
    }
   },
   "outputs": [],
   "source": [
    "from python_speech_features import mfcc\n",
    "import scipy.io.wavfile as wav\n",
    "import numpy as np\n",
    "import os\n",
    "from tqdm.notebook import tqdm\n",
    "import pickle\n",
    "from sklearn.model_selection import train_test_split"
   ]
  },
  {
   "cell_type": "code",
   "execution_count": 2,
   "metadata": {
    "ExecuteTime": {
     "end_time": "2021-01-15T17:08:46.073237Z",
     "start_time": "2021-01-15T17:08:46.060271Z"
    }
   },
   "outputs": [],
   "source": [
    "DATASET_PATH = './genres'\n",
    "FEATURES_PATH = f'{DATASET_PATH}/features.pkl'"
   ]
  },
  {
   "cell_type": "code",
   "execution_count": 3,
   "metadata": {
    "ExecuteTime": {
     "end_time": "2021-01-15T17:08:46.088197Z",
     "start_time": "2021-01-15T17:08:46.075233Z"
    }
   },
   "outputs": [
    {
     "data": {
      "text/plain": [
       "['blues',\n",
       " 'classical',\n",
       " 'country',\n",
       " 'disco',\n",
       " 'hiphop',\n",
       " 'jazz',\n",
       " 'metal',\n",
       " 'pop',\n",
       " 'reggae',\n",
       " 'rock']"
      ]
     },
     "execution_count": 3,
     "metadata": {},
     "output_type": "execute_result"
    }
   ],
   "source": [
    "genres = [path for path in os.listdir(DATASET_PATH) if '.' not in path]\n",
    "genres"
   ]
  },
  {
   "cell_type": "code",
   "execution_count": 4,
   "metadata": {
    "ExecuteTime": {
     "end_time": "2021-01-15T17:08:46.104157Z",
     "start_time": "2021-01-15T17:08:46.090193Z"
    }
   },
   "outputs": [
    {
     "data": {
      "text/plain": [
       "{'blues': 0,\n",
       " 'classical': 1,\n",
       " 'country': 2,\n",
       " 'disco': 3,\n",
       " 'hiphop': 4,\n",
       " 'jazz': 5,\n",
       " 'metal': 6,\n",
       " 'pop': 7,\n",
       " 'reggae': 8,\n",
       " 'rock': 9}"
      ]
     },
     "execution_count": 4,
     "metadata": {},
     "output_type": "execute_result"
    }
   ],
   "source": [
    "genre_to_num = {genre: i for i, genre in enumerate(genres)}\n",
    "genre_to_num"
   ]
  },
  {
   "cell_type": "code",
   "execution_count": 5,
   "metadata": {
    "ExecuteTime": {
     "end_time": "2021-01-15T17:08:46.120111Z",
     "start_time": "2021-01-15T17:08:46.105152Z"
    }
   },
   "outputs": [
    {
     "data": {
      "text/plain": [
       "{0: 'blues',\n",
       " 1: 'classical',\n",
       " 2: 'country',\n",
       " 3: 'disco',\n",
       " 4: 'hiphop',\n",
       " 5: 'jazz',\n",
       " 6: 'metal',\n",
       " 7: 'pop',\n",
       " 8: 'reggae',\n",
       " 9: 'rock'}"
      ]
     },
     "execution_count": 5,
     "metadata": {},
     "output_type": "execute_result"
    }
   ],
   "source": [
    "num_to_genre = dict(enumerate(genres))\n",
    "num_to_genre"
   ]
  },
  {
   "cell_type": "markdown",
   "metadata": {},
   "source": [
    "### create features"
   ]
  },
  {
   "cell_type": "code",
   "execution_count": 6,
   "metadata": {
    "ExecuteTime": {
     "end_time": "2021-01-15T17:08:46.906447Z",
     "start_time": "2021-01-15T17:08:46.127097Z"
    }
   },
   "outputs": [],
   "source": [
    "import librosa"
   ]
  },
  {
   "cell_type": "code",
   "execution_count": 16,
   "metadata": {
    "ExecuteTime": {
     "end_time": "2021-01-15T17:09:41.613681Z",
     "start_time": "2021-01-15T17:09:41.600719Z"
    }
   },
   "outputs": [],
   "source": [
    "def get_mfcc(wav_name, max_len=1200): # 2895):\n",
    "#     rate, sig = wav.read(wav_name)\n",
    "#     mfcc_feat = mfcc(sig, rate, winlen=0.020, appendEnergy = False)\n",
    "    rate = 22050\n",
    "    sig, rate = librosa.load(wav_name, sr=rate)\n",
    "    mfcc_feat = librosa.feature.mfcc(sig, rate, n_mfcc=13, n_fft=512, hop_length=512).T\n",
    "#     covariance = np.cov(np.matrix.transpose(mfcc_feat))\n",
    "#     mean_matrix = mfcc_feat.mean(0)\n",
    "#     feature = (mean_matrix , covariance , 0)\n",
    "    return mfcc_feat[:max_len]"
   ]
  },
  {
   "cell_type": "code",
   "execution_count": 94,
   "metadata": {
    "ExecuteTime": {
     "end_time": "2021-01-15T17:45:11.449351Z",
     "start_time": "2021-01-15T17:45:11.381532Z"
    }
   },
   "outputs": [
    {
     "data": {
      "application/vnd.jupyter.widget-view+json": {
       "model_id": "80986e0e22a64b71a965d18b5554671c",
       "version_major": 2,
       "version_minor": 0
      },
      "text/plain": [
       "HBox(children=(HTML(value=''), FloatProgress(value=0.0, max=1.0), HTML(value='')))"
      ]
     },
     "metadata": {},
     "output_type": "display_data"
    },
    {
     "name": "stdout",
     "output_type": "stream",
     "text": [
      "\n"
     ]
    },
    {
     "data": {
      "text/plain": [
       "(13,)"
      ]
     },
     "execution_count": 94,
     "metadata": {},
     "output_type": "execute_result"
    }
   ],
   "source": [
    "genre_folders = [path for path in os.listdir(DATASET_PATH) if '.' not in path]\n",
    "for genre_name in tqdm(genre_folders[4:5]):\n",
    "    wavs_list = os.listdir(f'{DATASET_PATH}/{genre_name}')\n",
    "    for w in wavs_list[:1]:\n",
    "        wav_path = f'{DATASET_PATH}/{genre_name}/{w}'\n",
    "        mfcc_feat = get_mfcc(wav_path)\n",
    "mfcc_feat.mean(axis=0).shape"
   ]
  },
  {
   "cell_type": "code",
   "execution_count": 84,
   "metadata": {
    "ExecuteTime": {
     "end_time": "2021-01-15T17:42:44.520182Z",
     "start_time": "2021-01-15T17:42:44.505252Z"
    }
   },
   "outputs": [],
   "source": [
    "import librosa.display"
   ]
  },
  {
   "cell_type": "code",
   "execution_count": 92,
   "metadata": {
    "ExecuteTime": {
     "end_time": "2021-01-15T17:44:50.270112Z",
     "start_time": "2021-01-15T17:44:50.260139Z"
    }
   },
   "outputs": [
    {
     "data": {
      "text/plain": [
       "(13, 1200)"
      ]
     },
     "execution_count": 92,
     "metadata": {},
     "output_type": "execute_result"
    }
   ],
   "source": [
    "mfcc_feat.T.shape"
   ]
  },
  {
   "cell_type": "code",
   "execution_count": 95,
   "metadata": {
    "ExecuteTime": {
     "end_time": "2021-01-15T17:45:16.398966Z",
     "start_time": "2021-01-15T17:45:16.227136Z"
    }
   },
   "outputs": [
    {
     "data": {
      "image/png": "[encoded data removed]",
      "text/plain": [
       "<Figure size 432x288 with 2 Axes>"
      ]
     },
     "metadata": {
      "needs_background": "light"
     },
     "output_type": "display_data"
    }
   ],
   "source": [
    "librosa.display.specshow(mfcc_feat.T, x_axis='time')\n",
    "plt.colorbar()\n",
    "plt.title('MFCC')\n",
    "plt.tight_layout()"
   ]
  },
  {
   "cell_type": "code",
   "execution_count": 93,
   "metadata": {
    "ExecuteTime": {
     "end_time": "2021-01-15T17:44:51.257472Z",
     "start_time": "2021-01-15T17:44:51.075955Z"
    }
   },
   "outputs": [
    {
     "data": {
      "image/png": "[encoded data removed]",
      "text/plain": [
       "<Figure size 432x288 with 2 Axes>"
      ]
     },
     "metadata": {
      "needs_background": "light"
     },
     "output_type": "display_data"
    }
   ],
   "source": [
    "librosa.display.specshow(mfcc_feat.T, x_axis='time')\n",
    "plt.colorbar()\n",
    "plt.title('MFCC')\n",
    "plt.tight_layout()"
   ]
  },
  {
   "cell_type": "code",
   "execution_count": 90,
   "metadata": {
    "ExecuteTime": {
     "end_time": "2021-01-15T17:43:55.303216Z",
     "start_time": "2021-01-15T17:43:55.131648Z"
    }
   },
   "outputs": [
    {
     "data": {
      "image/png": "[encoded data removed]",
      "text/plain": [
       "<Figure size 432x288 with 2 Axes>"
      ]
     },
     "metadata": {
      "needs_background": "light"
     },
     "output_type": "display_data"
    }
   ],
   "source": [
    "librosa.display.specshow(mfcc_feat.T, x_axis='time')\n",
    "plt.colorbar()\n",
    "plt.title('MFCC')\n",
    "plt.tight_layout()"
   ]
  },
  {
   "cell_type": "code",
   "execution_count": null,
   "metadata": {},
   "outputs": [],
   "source": []
  },
  {
   "cell_type": "code",
   "execution_count": 18,
   "metadata": {
    "ExecuteTime": {
     "end_time": "2021-01-15T17:09:44.435812Z",
     "start_time": "2021-01-15T17:09:44.420853Z"
    }
   },
   "outputs": [],
   "source": [
    "def create_save_features(dataset_path: str, out_dir: str):\n",
    "    data = {}\n",
    "    data['mfcc'] = []\n",
    "    data['label'] = []\n",
    "    \"\"\" gets list of folders cotaining wavs and returns created mfcc features and label's csv\"\"\"\n",
    "    genre_folders = [path for path in os.listdir(dataset_path) if '.' not in path]\n",
    "    for genre_name in tqdm(genre_folders):\n",
    "        wavs_list = os.listdir(f'{dataset_path}/{genre_name}')\n",
    "        for wav in tqdm(wavs_list):\n",
    "            wav_path = f'{dataset_path}/{genre_name}/{wav}'\n",
    "            data['mfcc'].append(get_mfcc(wav_path).T)\n",
    "            data['label'].append(genre_to_num[genre_name])\n",
    "            \n",
    "    with open(out_dir, 'wb') as f:\n",
    "        pickle.dump(data, f)"
   ]
  },
  {
   "cell_type": "code",
   "execution_count": 19,
   "metadata": {
    "ExecuteTime": {
     "end_time": "2021-01-15T17:10:14.888247Z",
     "start_time": "2021-01-15T17:09:46.630890Z"
    },
    "scrolled": true
   },
   "outputs": [
    {
     "data": {
      "application/vnd.jupyter.widget-view+json": {
       "model_id": "7ddd7ad6c92c4e22a653b36168db15b6",
       "version_major": 2,
       "version_minor": 0
      },
      "text/plain": [
       "HBox(children=(HTML(value=''), FloatProgress(value=0.0, max=10.0), HTML(value='')))"
      ]
     },
     "metadata": {},
     "output_type": "display_data"
    },
    {
     "data": {
      "application/vnd.jupyter.widget-view+json": {
       "model_id": "e55749590e7748f58235fe94c335d24a",
       "version_major": 2,
       "version_minor": 0
      },
      "text/plain": [
       "HBox(children=(HTML(value=''), FloatProgress(value=0.0), HTML(value='')))"
      ]
     },
     "metadata": {},
     "output_type": "display_data"
    },
    {
     "name": "stdout",
     "output_type": "stream",
     "text": [
      "\n"
     ]
    },
    {
     "data": {
      "application/vnd.jupyter.widget-view+json": {
       "model_id": "9bb1c1c0007d4b87b7b9f5b3f13a1346",
       "version_major": 2,
       "version_minor": 0
      },
      "text/plain": [
       "HBox(children=(HTML(value=''), FloatProgress(value=0.0), HTML(value='')))"
      ]
     },
     "metadata": {},
     "output_type": "display_data"
    },
    {
     "name": "stdout",
     "output_type": "stream",
     "text": [
      "\n"
     ]
    },
    {
     "data": {
      "application/vnd.jupyter.widget-view+json": {
       "model_id": "4547b9387c5a4f18afcdc5405375d29b",
       "version_major": 2,
       "version_minor": 0
      },
      "text/plain": [
       "HBox(children=(HTML(value=''), FloatProgress(value=0.0), HTML(value='')))"
      ]
     },
     "metadata": {},
     "output_type": "display_data"
    },
    {
     "name": "stdout",
     "output_type": "stream",
     "text": [
      "\n"
     ]
    },
    {
     "data": {
      "application/vnd.jupyter.widget-view+json": {
       "model_id": "5ec35a8173944e0aa3e5059c1947a1fc",
       "version_major": 2,
       "version_minor": 0
      },
      "text/plain": [
       "HBox(children=(HTML(value=''), FloatProgress(value=0.0), HTML(value='')))"
      ]
     },
     "metadata": {},
     "output_type": "display_data"
    },
    {
     "name": "stdout",
     "output_type": "stream",
     "text": [
      "\n"
     ]
    },
    {
     "data": {
      "application/vnd.jupyter.widget-view+json": {
       "model_id": "98446fa45aec42d097382b0b6ef67593",
       "version_major": 2,
       "version_minor": 0
      },
      "text/plain": [
       "HBox(children=(HTML(value=''), FloatProgress(value=0.0), HTML(value='')))"
      ]
     },
     "metadata": {},
     "output_type": "display_data"
    },
    {
     "name": "stdout",
     "output_type": "stream",
     "text": [
      "\n"
     ]
    },
    {
     "data": {
      "application/vnd.jupyter.widget-view+json": {
       "model_id": "0ff35594a79e4b11a69a6a51d1fa3b3e",
       "version_major": 2,
       "version_minor": 0
      },
      "text/plain": [
       "HBox(children=(HTML(value=''), FloatProgress(value=0.0), HTML(value='')))"
      ]
     },
     "metadata": {},
     "output_type": "display_data"
    },
    {
     "name": "stdout",
     "output_type": "stream",
     "text": [
      "\n"
     ]
    },
    {
     "data": {
      "application/vnd.jupyter.widget-view+json": {
       "model_id": "65a3398b8a4446ce85391a7814b627cf",
       "version_major": 2,
       "version_minor": 0
      },
      "text/plain": [
       "HBox(children=(HTML(value=''), FloatProgress(value=0.0), HTML(value='')))"
      ]
     },
     "metadata": {},
     "output_type": "display_data"
    },
    {
     "name": "stdout",
     "output_type": "stream",
     "text": [
      "\n"
     ]
    },
    {
     "data": {
      "application/vnd.jupyter.widget-view+json": {
       "model_id": "c64a8509743d4379b4ac8d778ba21ad8",
       "version_major": 2,
       "version_minor": 0
      },
      "text/plain": [
       "HBox(children=(HTML(value=''), FloatProgress(value=0.0), HTML(value='')))"
      ]
     },
     "metadata": {},
     "output_type": "display_data"
    },
    {
     "name": "stdout",
     "output_type": "stream",
     "text": [
      "\n"
     ]
    },
    {
     "data": {
      "application/vnd.jupyter.widget-view+json": {
       "model_id": "6f90030bfd9d4fc0ae73b00fef9ea51d",
       "version_major": 2,
       "version_minor": 0
      },
      "text/plain": [
       "HBox(children=(HTML(value=''), FloatProgress(value=0.0), HTML(value='')))"
      ]
     },
     "metadata": {},
     "output_type": "display_data"
    },
    {
     "name": "stdout",
     "output_type": "stream",
     "text": [
      "\n"
     ]
    },
    {
     "data": {
      "application/vnd.jupyter.widget-view+json": {
       "model_id": "3f33180160b94c9fab9b6a2a945d18cd",
       "version_major": 2,
       "version_minor": 0
      },
      "text/plain": [
       "HBox(children=(HTML(value=''), FloatProgress(value=0.0), HTML(value='')))"
      ]
     },
     "metadata": {},
     "output_type": "display_data"
    },
    {
     "name": "stdout",
     "output_type": "stream",
     "text": [
      "\n",
      "\n"
     ]
    }
   ],
   "source": [
    "create_save_features(DATASET_PATH, FEATURES_PATH)"
   ]
  },
  {
   "cell_type": "code",
   "execution_count": null,
   "metadata": {},
   "outputs": [],
   "source": []
  },
  {
   "cell_type": "code",
   "execution_count": null,
   "metadata": {},
   "outputs": [],
   "source": []
  },
  {
   "cell_type": "markdown",
   "metadata": {},
   "source": [
    "### loading data"
   ]
  },
  {
   "cell_type": "code",
   "execution_count": 20,
   "metadata": {
    "ExecuteTime": {
     "end_time": "2021-01-15T17:10:14.904211Z",
     "start_time": "2021-01-15T17:10:14.890211Z"
    }
   },
   "outputs": [],
   "source": [
    "#  with open(FEATURES_PATH, \"rb\") as f:\n",
    "#     data = pickle.load(f)\n",
    "# set([it.shape for it in data['mfcc']])"
   ]
  },
  {
   "cell_type": "code",
   "execution_count": 21,
   "metadata": {
    "ExecuteTime": {
     "end_time": "2021-01-15T17:10:14.918986Z",
     "start_time": "2021-01-15T17:10:14.906170Z"
    }
   },
   "outputs": [],
   "source": [
    "def load_data(data_path):\n",
    "    with open(data_path, \"rb\") as f:\n",
    "        data = pickle.load(f)\n",
    "\n",
    "    X = np.stack(data[\"mfcc\"], axis=0)\n",
    "    y = np.array(data[\"label\"])\n",
    "    return X, y"
   ]
  },
  {
   "cell_type": "code",
   "execution_count": 231,
   "metadata": {
    "ExecuteTime": {
     "end_time": "2021-01-15T19:14:33.026300Z",
     "start_time": "2021-01-15T19:14:33.013365Z"
    }
   },
   "outputs": [],
   "source": [
    "def ttf_split(data, test_size, val_size, seed=4321):\n",
    "    X_train, X_test, y_train, y_test = train_test_split(*data, test_size=test_size, random_state=seed)\n",
    "    X_train, X_validation, y_train, y_validation = train_test_split(X_train, y_train, test_size=val_size, random_state=seed)\n",
    "\n",
    "    return X_train, X_validation, X_test, y_train, y_validation, y_test"
   ]
  },
  {
   "cell_type": "code",
   "execution_count": null,
   "metadata": {},
   "outputs": [],
   "source": []
  },
  {
   "cell_type": "code",
   "execution_count": 232,
   "metadata": {
    "ExecuteTime": {
     "end_time": "2021-01-15T19:14:33.728604Z",
     "start_time": "2021-01-15T19:14:33.563048Z"
    }
   },
   "outputs": [
    {
     "data": {
      "text/plain": [
       "((1000, 13, 1200), (1000,))"
      ]
     },
     "execution_count": 232,
     "metadata": {},
     "output_type": "execute_result"
    }
   ],
   "source": [
    "X, y = load_data(FEATURES_PATH)\n",
    "X.shape, y.shape\n",
    "\n"
   ]
  },
  {
   "cell_type": "code",
   "execution_count": 233,
   "metadata": {
    "ExecuteTime": {
     "end_time": "2021-01-15T19:14:35.175654Z",
     "start_time": "2021-01-15T19:14:35.126416Z"
    }
   },
   "outputs": [],
   "source": [
    "X, y =  more_samples(X, y)"
   ]
  },
  {
   "cell_type": "code",
   "execution_count": 234,
   "metadata": {
    "ExecuteTime": {
     "end_time": "2021-01-15T19:14:35.408223Z",
     "start_time": "2021-01-15T19:14:35.389271Z"
    }
   },
   "outputs": [
    {
     "data": {
      "text/plain": [
       "(8000, 10)"
      ]
     },
     "execution_count": 234,
     "metadata": {},
     "output_type": "execute_result"
    }
   ],
   "source": [
    "# create one hot encoding\n",
    "y_hot = np.eye(y.max()+1)[y]\n",
    "y_hot.shape"
   ]
  },
  {
   "cell_type": "markdown",
   "metadata": {},
   "source": [
    "### Try LSTM"
   ]
  },
  {
   "cell_type": "code",
   "execution_count": 235,
   "metadata": {
    "ExecuteTime": {
     "end_time": "2021-01-15T19:14:40.343411Z",
     "start_time": "2021-01-15T19:14:40.333402Z"
    }
   },
   "outputs": [],
   "source": [
    "import tensorflow.keras as keras\n",
    "import matplotlib.pyplot as plt"
   ]
  },
  {
   "cell_type": "code",
   "execution_count": 236,
   "metadata": {
    "ExecuteTime": {
     "end_time": "2021-01-15T19:14:40.672750Z",
     "start_time": "2021-01-15T19:14:40.655736Z"
    }
   },
   "outputs": [],
   "source": [
    "from tensorflow.keras.layers import *"
   ]
  },
  {
   "cell_type": "code",
   "execution_count": 261,
   "metadata": {
    "ExecuteTime": {
     "end_time": "2021-01-15T19:18:21.511007Z",
     "start_time": "2021-01-15T19:18:21.497044Z"
    }
   },
   "outputs": [],
   "source": [
    "def build_model(input_shape):\n",
    "\n",
    "    # build network topology\n",
    "    model = keras.Sequential()\n",
    "    \n",
    "    model.add(keras.layers.LayerNormalization(axis=1, input_shape=input_shape,))\n",
    "\n",
    "    # 2 LSTM layers\n",
    "    model.add(keras.layers.LSTM(128, return_sequences=True))\n",
    "    model.add(keras.layers.LSTM(128))\n",
    "\n",
    "    # dense layer\n",
    "    model.add(keras.layers.Dense(128, activation='relu'))\n",
    "    model.add(keras.layers.Dropout(0.7))\n",
    "#     model.add(keras.layers.BatchNormalization())\n",
    "    \n",
    "#     model.add(keras.layers.Dense(32, activation='relu'))\n",
    "#     model.add(keras.layers.Dropout(0.5))\n",
    "\n",
    "    # output layer\n",
    "    model.add(keras.layers.Dense(10, activation='softmax'))\n",
    "\n",
    "    return model\n",
    "\n",
    "\n",
    "# def build_model(input_shape):\n",
    "\n",
    "#     # build network topology\n",
    "#     model = keras.Sequential()\n",
    "#     model.add(keras.layers.LayerNormalization(axis=1, input_shape=input_shape,))\n",
    "\n",
    "#     # New model\n",
    "#     model.add(Conv2D(128, 9, padding='same'))  # X_train.shape[1] = No. of Columns\n",
    "#     model.add(Activation('relu'))\n",
    "#     model.add(Conv2D(128, 9, padding='same'))\n",
    "#     model.add(BatchNormalization())\n",
    "#     model.add(Activation('relu'))\n",
    "#     model.add(Dropout(0.25))\n",
    "#     model.add(MaxPooling2D(pool_size=(7)))\n",
    "#     model.add(Conv2D(64, 5, padding='same'))\n",
    "#     model.add(Activation('relu'))\n",
    "#     model.add(Conv2D(64, 5, padding='same'))\n",
    "#     model.add(Activation('relu'))\n",
    "#     model.add(Conv2D(64, 3, padding='same'))\n",
    "#     model.add(Activation('relu'))\n",
    "#     model.add(Conv2D(64, 3, padding='same'))\n",
    "#     model.add(BatchNormalization())\n",
    "#     model.add(Activation('relu'))\n",
    "#     model.add(Dropout(0.25))\n",
    "# #     model.add(MaxPooling2D(pool_size=(7)))\n",
    "# #     model.add(Conv2D(32, 7, padding='same'))\n",
    "# #     model.add(Activation('relu'))\n",
    "# #     model.add(Conv2D(32, 7, padding='same'))\n",
    "# #     model.add(Activation('relu'))\n",
    "#     model.add(Flatten())\n",
    "#     model.add(Dense(256)) \n",
    "#     model.add(Activation('selu'))\n",
    "#     model.add(Dense(10)) # Target class number\n",
    "#     model.add(Activation('softmax'))\n",
    "\n",
    "#     return model\n"
   ]
  },
  {
   "cell_type": "code",
   "execution_count": 262,
   "metadata": {
    "ExecuteTime": {
     "end_time": "2021-01-15T19:18:21.793211Z",
     "start_time": "2021-01-15T19:18:21.779248Z"
    }
   },
   "outputs": [],
   "source": [
    "def more_samples(x, y, div=150):\n",
    "    length = 1200 // div\n",
    "    xs = np.concatenate([x[:,:,i*div:(i+1)*div] for i in range(length)], axis=0)\n",
    "    ys = np.concatenate([y] * length, axis=0)\n",
    "    return xs, ys"
   ]
  },
  {
   "cell_type": "code",
   "execution_count": 263,
   "metadata": {
    "ExecuteTime": {
     "end_time": "2021-01-15T19:18:22.043170Z",
     "start_time": "2021-01-15T19:18:22.029168Z"
    }
   },
   "outputs": [],
   "source": [
    "X = X.reshape([*X.shape, 1])"
   ]
  },
  {
   "cell_type": "code",
   "execution_count": 264,
   "metadata": {
    "ExecuteTime": {
     "end_time": "2021-01-15T19:18:22.368561Z",
     "start_time": "2021-01-15T19:18:22.284788Z"
    }
   },
   "outputs": [],
   "source": [
    "test_size = 0.25 \n",
    "val_size = 0.2 \n",
    "X_train, X_val, X_test, y_train, y_val, y_test = ttf_split((X, y_hot), test_size, val_size)\n",
    "\n",
    "# X_train, y_train =  more_samples(X_train, y_train)\n",
    "# X_val, y_val =  more_samples(X_val, y_val)\n",
    "# X_test, y_test =  more_samples(X_test, y_test)"
   ]
  },
  {
   "cell_type": "code",
   "execution_count": 265,
   "metadata": {
    "ExecuteTime": {
     "end_time": "2021-01-15T19:18:23.195155Z",
     "start_time": "2021-01-15T19:18:23.183147Z"
    }
   },
   "outputs": [
    {
     "data": {
      "text/plain": [
       "(4800, 13, 150, 1)"
      ]
     },
     "execution_count": 265,
     "metadata": {},
     "output_type": "execute_result"
    }
   ],
   "source": [
    "X_train.shape"
   ]
  },
  {
   "cell_type": "code",
   "execution_count": 266,
   "metadata": {
    "ExecuteTime": {
     "end_time": "2021-01-15T19:18:23.911345Z",
     "start_time": "2021-01-15T19:18:23.462938Z"
    }
   },
   "outputs": [
    {
     "name": "stdout",
     "output_type": "stream",
     "text": [
      "Model: \"sequential_23\"\n",
      "_________________________________________________________________\n",
      "Layer (type)                 Output Shape              Param #   \n",
      "=================================================================\n",
      "layer_normalization_23 (Laye (None, 13, 150)           26        \n",
      "_________________________________________________________________\n",
      "lstm_9 (LSTM)                (None, 13, 128)           142848    \n",
      "_________________________________________________________________\n",
      "lstm_10 (LSTM)               (None, 128)               131584    \n",
      "_________________________________________________________________\n",
      "dense_27 (Dense)             (None, 128)               16512     \n",
      "_________________________________________________________________\n",
      "dropout_29 (Dropout)         (None, 128)               0         \n",
      "_________________________________________________________________\n",
      "dense_28 (Dense)             (None, 10)                1290      \n",
      "=================================================================\n",
      "Total params: 292,260\n",
      "Trainable params: 292,260\n",
      "Non-trainable params: 0\n",
      "_________________________________________________________________\n"
     ]
    }
   ],
   "source": [
    "# input_shape = (X_train.shape[1], X_train.shape[2], 1) # 1200, 13\n",
    "input_shape = (X_train.shape[1], X_train.shape[2]) # 1200, 13\n",
    "model = build_model(input_shape)\n",
    "\n",
    "optimiser = keras.optimizers.Adam(learning_rate=0.001)\n",
    "# optimiser = keras.optimizers.SGD(learning_rate=0.001)\n",
    "model.compile(optimizer=optimiser,\n",
    "              loss='categorical_crossentropy',\n",
    "              metrics=['accuracy'])\n",
    "\n",
    "model.summary()"
   ]
  },
  {
   "cell_type": "code",
   "execution_count": 267,
   "metadata": {
    "ExecuteTime": {
     "end_time": "2021-01-15T19:18:25.631364Z",
     "start_time": "2021-01-15T19:18:25.619358Z"
    }
   },
   "outputs": [
    {
     "data": {
      "text/plain": [
       "array([119., 112., 117., 121., 116., 121., 131., 115., 119., 129.])"
      ]
     },
     "execution_count": 267,
     "metadata": {},
     "output_type": "execute_result"
    }
   ],
   "source": [
    "y_val.sum(axis=0)"
   ]
  },
  {
   "cell_type": "code",
   "execution_count": 268,
   "metadata": {
    "ExecuteTime": {
     "end_time": "2021-01-15T19:18:25.882805Z",
     "start_time": "2021-01-15T19:18:25.873796Z"
    }
   },
   "outputs": [
    {
     "data": {
      "text/plain": [
       "array([470., 488., 501., 475., 475., 505., 464., 477., 487., 458.])"
      ]
     },
     "execution_count": 268,
     "metadata": {},
     "output_type": "execute_result"
    }
   ],
   "source": [
    "y_train.sum(axis=0)"
   ]
  },
  {
   "cell_type": "code",
   "execution_count": 269,
   "metadata": {
    "ExecuteTime": {
     "end_time": "2021-01-15T19:19:35.071349Z",
     "start_time": "2021-01-15T19:18:26.158689Z"
    },
    "scrolled": true
   },
   "outputs": [
    {
     "name": "stdout",
     "output_type": "stream",
     "text": [
      "Epoch 1/100\n",
      "75/75 [==============================] - 3s 19ms/step - loss: 2.2555 - accuracy: 0.1292 - val_loss: 2.0321 - val_accuracy: 0.2592\n",
      "Epoch 2/100\n",
      "75/75 [==============================] - 1s 12ms/step - loss: 2.0296 - accuracy: 0.2486 - val_loss: 1.8280 - val_accuracy: 0.3283\n",
      "Epoch 3/100\n",
      "75/75 [==============================] - 1s 11ms/step - loss: 1.8918 - accuracy: 0.3166 - val_loss: 1.7409 - val_accuracy: 0.3717\n",
      "Epoch 4/100\n",
      "75/75 [==============================] - 1s 11ms/step - loss: 1.7951 - accuracy: 0.3634 - val_loss: 1.7611 - val_accuracy: 0.3533\n",
      "Epoch 5/100\n",
      "75/75 [==============================] - 1s 11ms/step - loss: 1.7428 - accuracy: 0.3626 - val_loss: 1.6487 - val_accuracy: 0.4017\n",
      "Epoch 6/100\n",
      "75/75 [==============================] - 1s 13ms/step - loss: 1.6724 - accuracy: 0.4023 - val_loss: 1.6360 - val_accuracy: 0.3983\n",
      "Epoch 7/100\n",
      "75/75 [==============================] - 1s 12ms/step - loss: 1.6547 - accuracy: 0.4030 - val_loss: 1.6010 - val_accuracy: 0.4342\n",
      "Epoch 8/100\n",
      "75/75 [==============================] - 1s 12ms/step - loss: 1.5974 - accuracy: 0.4277 - val_loss: 1.5976 - val_accuracy: 0.4242\n",
      "Epoch 9/100\n",
      "75/75 [==============================] - 1s 13ms/step - loss: 1.5628 - accuracy: 0.4505 - val_loss: 1.5511 - val_accuracy: 0.4642\n",
      "Epoch 10/100\n",
      "75/75 [==============================] - 1s 12ms/step - loss: 1.5003 - accuracy: 0.4614 - val_loss: 1.5539 - val_accuracy: 0.4483\n",
      "Epoch 11/100\n",
      "75/75 [==============================] - 1s 12ms/step - loss: 1.4688 - accuracy: 0.4792 - val_loss: 1.4853 - val_accuracy: 0.4683\n",
      "Epoch 12/100\n",
      "75/75 [==============================] - 1s 11ms/step - loss: 1.4120 - accuracy: 0.4964 - val_loss: 1.4542 - val_accuracy: 0.4917\n",
      "Epoch 13/100\n",
      "75/75 [==============================] - 1s 11ms/step - loss: 1.3466 - accuracy: 0.5254 - val_loss: 1.4502 - val_accuracy: 0.4900\n",
      "Epoch 14/100\n",
      "75/75 [==============================] - 1s 12ms/step - loss: 1.2935 - accuracy: 0.5470 - val_loss: 1.4059 - val_accuracy: 0.5083\n",
      "Epoch 15/100\n",
      "75/75 [==============================] - 1s 11ms/step - loss: 1.2573 - accuracy: 0.5555 - val_loss: 1.4058 - val_accuracy: 0.5075\n",
      "Epoch 16/100\n",
      "75/75 [==============================] - 1s 11ms/step - loss: 1.1706 - accuracy: 0.6021 - val_loss: 1.4424 - val_accuracy: 0.5083\n",
      "Epoch 17/100\n",
      "75/75 [==============================] - 1s 11ms/step - loss: 1.1201 - accuracy: 0.6028 - val_loss: 1.4287 - val_accuracy: 0.5100\n",
      "Epoch 18/100\n",
      "75/75 [==============================] - 1s 11ms/step - loss: 1.0673 - accuracy: 0.6237 - val_loss: 1.5369 - val_accuracy: 0.4933\n",
      "Epoch 19/100\n",
      "75/75 [==============================] - 1s 12ms/step - loss: 1.0320 - accuracy: 0.6504 - val_loss: 1.4606 - val_accuracy: 0.5275\n",
      "Epoch 20/100\n",
      "75/75 [==============================] - 1s 11ms/step - loss: 0.9892 - accuracy: 0.6590 - val_loss: 1.4282 - val_accuracy: 0.5325\n",
      "Epoch 21/100\n",
      "75/75 [==============================] - 1s 13ms/step - loss: 0.9197 - accuracy: 0.6865 - val_loss: 1.4165 - val_accuracy: 0.5467\n",
      "Epoch 22/100\n",
      "75/75 [==============================] - 1s 12ms/step - loss: 0.8474 - accuracy: 0.7086 - val_loss: 1.4558 - val_accuracy: 0.5417\n",
      "Epoch 23/100\n",
      "75/75 [==============================] - 1s 12ms/step - loss: 0.8190 - accuracy: 0.7130 - val_loss: 1.4929 - val_accuracy: 0.5467\n",
      "Epoch 24/100\n",
      "75/75 [==============================] - 1s 11ms/step - loss: 0.7687 - accuracy: 0.7330 - val_loss: 1.5756 - val_accuracy: 0.5508\n",
      "Epoch 25/100\n",
      "75/75 [==============================] - 1s 11ms/step - loss: 0.7273 - accuracy: 0.7509 - val_loss: 1.4897 - val_accuracy: 0.5650\n",
      "Epoch 26/100\n",
      "75/75 [==============================] - 1s 11ms/step - loss: 0.6605 - accuracy: 0.7704 - val_loss: 1.6464 - val_accuracy: 0.5342\n",
      "Epoch 27/100\n",
      "75/75 [==============================] - 1s 11ms/step - loss: 0.5911 - accuracy: 0.7956 - val_loss: 1.6981 - val_accuracy: 0.5425\n",
      "Epoch 28/100\n",
      "75/75 [==============================] - 1s 12ms/step - loss: 0.5560 - accuracy: 0.8086 - val_loss: 1.6990 - val_accuracy: 0.5575\n",
      "Epoch 29/100\n",
      "75/75 [==============================] - 1s 11ms/step - loss: 0.5701 - accuracy: 0.8061 - val_loss: 1.7908 - val_accuracy: 0.5450\n",
      "Epoch 30/100\n",
      "75/75 [==============================] - 1s 11ms/step - loss: 0.5658 - accuracy: 0.8101 - val_loss: 1.8596 - val_accuracy: 0.5500\n",
      "Epoch 31/100\n",
      "75/75 [==============================] - 1s 12ms/step - loss: 0.4891 - accuracy: 0.8371 - val_loss: 1.8549 - val_accuracy: 0.5542\n",
      "Epoch 32/100\n",
      "75/75 [==============================] - 1s 11ms/step - loss: 0.4128 - accuracy: 0.8754 - val_loss: 1.9124 - val_accuracy: 0.5583\n",
      "Epoch 33/100\n",
      "75/75 [==============================] - 1s 12ms/step - loss: 0.3862 - accuracy: 0.8693 - val_loss: 1.9675 - val_accuracy: 0.5533\n",
      "Epoch 34/100\n",
      "75/75 [==============================] - 1s 12ms/step - loss: 0.3777 - accuracy: 0.8751 - val_loss: 2.2089 - val_accuracy: 0.5317\n",
      "Epoch 35/100\n",
      "75/75 [==============================] - 1s 12ms/step - loss: 0.3115 - accuracy: 0.8994 - val_loss: 2.2242 - val_accuracy: 0.5300\n",
      "Epoch 36/100\n",
      "75/75 [==============================] - 1s 11ms/step - loss: 0.2665 - accuracy: 0.9127 - val_loss: 2.1594 - val_accuracy: 0.5600\n",
      "Epoch 37/100\n",
      "75/75 [==============================] - 1s 11ms/step - loss: 0.2451 - accuracy: 0.9260 - val_loss: 2.3701 - val_accuracy: 0.5525\n",
      "Epoch 38/100\n",
      "75/75 [==============================] - 1s 12ms/step - loss: 0.3035 - accuracy: 0.9050 - val_loss: 2.2928 - val_accuracy: 0.5625\n",
      "Epoch 39/100\n",
      "75/75 [==============================] - 1s 11ms/step - loss: 0.2445 - accuracy: 0.9204 - val_loss: 2.6953 - val_accuracy: 0.5217\n",
      "Epoch 40/100\n",
      "75/75 [==============================] - 1s 12ms/step - loss: 0.2721 - accuracy: 0.9162 - val_loss: 2.4425 - val_accuracy: 0.5575\n",
      "Epoch 41/100\n",
      "75/75 [==============================] - 1s 11ms/step - loss: 0.1862 - accuracy: 0.9479 - val_loss: 2.6980 - val_accuracy: 0.5308\n",
      "Epoch 42/100\n",
      "75/75 [==============================] - 1s 11ms/step - loss: 0.1817 - accuracy: 0.9421 - val_loss: 2.8833 - val_accuracy: 0.5350\n",
      "Epoch 43/100\n",
      "75/75 [==============================] - 1s 11ms/step - loss: 0.1734 - accuracy: 0.9427 - val_loss: 2.7892 - val_accuracy: 0.5592\n",
      "Epoch 44/100\n",
      "75/75 [==============================] - 1s 12ms/step - loss: 0.1208 - accuracy: 0.9606 - val_loss: 2.8991 - val_accuracy: 0.5508\n",
      "Epoch 45/100\n",
      "75/75 [==============================] - 1s 11ms/step - loss: 0.1189 - accuracy: 0.9592 - val_loss: 2.8478 - val_accuracy: 0.5417\n",
      "Epoch 46/100\n",
      "75/75 [==============================] - 1s 11ms/step - loss: 0.1655 - accuracy: 0.9484 - val_loss: 2.8778 - val_accuracy: 0.5450\n",
      "Epoch 47/100\n",
      "75/75 [==============================] - 1s 11ms/step - loss: 0.1746 - accuracy: 0.9481 - val_loss: 2.9920 - val_accuracy: 0.5417\n",
      "Epoch 48/100\n",
      "75/75 [==============================] - 1s 11ms/step - loss: 0.1215 - accuracy: 0.9648 - val_loss: 2.8697 - val_accuracy: 0.5450\n",
      "Epoch 49/100\n",
      "75/75 [==============================] - 1s 12ms/step - loss: 0.1581 - accuracy: 0.9520 - val_loss: 2.9071 - val_accuracy: 0.5467\n",
      "Epoch 50/100\n",
      "75/75 [==============================] - 1s 11ms/step - loss: 0.1186 - accuracy: 0.9637 - val_loss: 2.8757 - val_accuracy: 0.5683\n",
      "Epoch 51/100\n",
      "75/75 [==============================] - 1s 11ms/step - loss: 0.0730 - accuracy: 0.9781 - val_loss: 3.0688 - val_accuracy: 0.5633\n",
      "Epoch 52/100\n",
      "75/75 [==============================] - 1s 11ms/step - loss: 0.0776 - accuracy: 0.9799 - val_loss: 3.1387 - val_accuracy: 0.5583\n",
      "Epoch 53/100\n",
      "75/75 [==============================] - 1s 11ms/step - loss: 0.1112 - accuracy: 0.9692 - val_loss: 3.2403 - val_accuracy: 0.5658\n",
      "Epoch 54/100\n",
      "75/75 [==============================] - 1s 13ms/step - loss: 0.0844 - accuracy: 0.9724 - val_loss: 3.3264 - val_accuracy: 0.5592\n",
      "Epoch 55/100\n",
      "75/75 [==============================] - 1s 12ms/step - loss: 0.0781 - accuracy: 0.9736 - val_loss: 3.2610 - val_accuracy: 0.5725\n",
      "Epoch 56/100\n",
      "75/75 [==============================] - 1s 12ms/step - loss: 0.0495 - accuracy: 0.9871 - val_loss: 3.4726 - val_accuracy: 0.5558\n",
      "Epoch 57/100\n",
      "75/75 [==============================] - 1s 11ms/step - loss: 0.0492 - accuracy: 0.9851 - val_loss: 3.7016 - val_accuracy: 0.5467\n",
      "Epoch 58/100\n"
     ]
    },
    {
     "name": "stdout",
     "output_type": "stream",
     "text": [
      "75/75 [==============================] - 1s 11ms/step - loss: 0.0538 - accuracy: 0.9842 - val_loss: 3.5682 - val_accuracy: 0.5508\n",
      "Epoch 59/100\n",
      "75/75 [==============================] - 1s 11ms/step - loss: 0.1407 - accuracy: 0.9586 - val_loss: 3.4403 - val_accuracy: 0.5358\n",
      "Epoch 60/100\n",
      "75/75 [==============================] - 1s 12ms/step - loss: 0.1117 - accuracy: 0.9692 - val_loss: 3.5376 - val_accuracy: 0.5400\n",
      "Epoch 61/100\n",
      "75/75 [==============================] - 1s 11ms/step - loss: 0.0695 - accuracy: 0.9820 - val_loss: 3.4728 - val_accuracy: 0.5517\n",
      "Epoch 62/100\n",
      "75/75 [==============================] - 1s 12ms/step - loss: 0.0575 - accuracy: 0.9853 - val_loss: 3.6549 - val_accuracy: 0.5533\n",
      "Epoch 63/100\n",
      "75/75 [==============================] - 1s 12ms/step - loss: 0.0669 - accuracy: 0.9788 - val_loss: 3.9875 - val_accuracy: 0.5333\n",
      "Epoch 64/100\n",
      "75/75 [==============================] - 1s 12ms/step - loss: 0.1798 - accuracy: 0.9504 - val_loss: 3.4475 - val_accuracy: 0.5433\n",
      "Epoch 65/100\n",
      "75/75 [==============================] - 1s 12ms/step - loss: 0.1135 - accuracy: 0.9666 - val_loss: 3.2883 - val_accuracy: 0.5675\n",
      "Epoch 66/100\n",
      "75/75 [==============================] - 1s 11ms/step - loss: 0.0709 - accuracy: 0.9785 - val_loss: 3.3900 - val_accuracy: 0.5650\n",
      "Epoch 67/100\n",
      "75/75 [==============================] - 1s 12ms/step - loss: 0.0402 - accuracy: 0.9896 - val_loss: 3.4688 - val_accuracy: 0.5650\n",
      "Epoch 68/100\n",
      "75/75 [==============================] - 1s 12ms/step - loss: 0.0320 - accuracy: 0.9920 - val_loss: 3.5541 - val_accuracy: 0.5633\n",
      "Epoch 69/100\n",
      "75/75 [==============================] - 1s 12ms/step - loss: 0.0176 - accuracy: 0.9974 - val_loss: 3.6371 - val_accuracy: 0.5600\n",
      "Epoch 70/100\n",
      "75/75 [==============================] - 1s 12ms/step - loss: 0.0132 - accuracy: 0.9980 - val_loss: 3.7652 - val_accuracy: 0.5742\n",
      "Epoch 71/100\n",
      "75/75 [==============================] - 1s 12ms/step - loss: 0.0119 - accuracy: 0.9985 - val_loss: 3.8738 - val_accuracy: 0.5650\n",
      "Epoch 72/100\n",
      "75/75 [==============================] - 1s 11ms/step - loss: 0.0120 - accuracy: 0.9975 - val_loss: 3.9573 - val_accuracy: 0.5733\n",
      "Epoch 73/100\n",
      "75/75 [==============================] - 1s 11ms/step - loss: 0.0094 - accuracy: 0.9985 - val_loss: 4.1088 - val_accuracy: 0.5692\n",
      "Epoch 74/100\n",
      "75/75 [==============================] - 1s 12ms/step - loss: 0.0100 - accuracy: 0.9978 - val_loss: 4.0873 - val_accuracy: 0.5733\n",
      "Epoch 75/100\n",
      "75/75 [==============================] - 1s 11ms/step - loss: 0.0084 - accuracy: 0.9981 - val_loss: 4.1667 - val_accuracy: 0.5708\n",
      "Epoch 76/100\n",
      "75/75 [==============================] - 1s 14ms/step - loss: 0.0072 - accuracy: 0.9996 - val_loss: 4.2891 - val_accuracy: 0.5575\n",
      "Epoch 77/100\n",
      "24/75 [========>.....................] - ETA: 0s - loss: 0.0053 - accuracy: 1.0000"
     ]
    },
    {
     "ename": "KeyboardInterrupt",
     "evalue": "",
     "output_type": "error",
     "traceback": [
      "\u001b[1;31m---------------------------------------------------------------------------\u001b[0m",
      "\u001b[1;31mKeyboardInterrupt\u001b[0m                         Traceback (most recent call last)",
      "\u001b[1;32m<ipython-input-269-d37f8f907c2d>\u001b[0m in \u001b[0;36m<module>\u001b[1;34m\u001b[0m\n\u001b[0;32m      3\u001b[0m                     \u001b[0mvalidation_data\u001b[0m\u001b[1;33m=\u001b[0m\u001b[1;33m(\u001b[0m\u001b[0mX_val\u001b[0m\u001b[1;33m,\u001b[0m \u001b[0my_val\u001b[0m\u001b[1;33m)\u001b[0m\u001b[1;33m,\u001b[0m\u001b[1;33m\u001b[0m\u001b[1;33m\u001b[0m\u001b[0m\n\u001b[0;32m      4\u001b[0m                     \u001b[0mbatch_size\u001b[0m\u001b[1;33m=\u001b[0m\u001b[1;36m64\u001b[0m\u001b[1;33m,\u001b[0m\u001b[1;33m\u001b[0m\u001b[1;33m\u001b[0m\u001b[0m\n\u001b[1;32m----> 5\u001b[1;33m                     epochs=100)\n\u001b[0m",
      "\u001b[1;32m~\\AppData\\Roaming\\Python\\Python37\\site-packages\\tensorflow\\python\\keras\\engine\\training.py\u001b[0m in \u001b[0;36mfit\u001b[1;34m(self, x, y, batch_size, epochs, verbose, callbacks, validation_split, validation_data, shuffle, class_weight, sample_weight, initial_epoch, steps_per_epoch, validation_steps, validation_batch_size, validation_freq, max_queue_size, workers, use_multiprocessing)\u001b[0m\n\u001b[0;32m   1133\u001b[0m                 _r=1):\n\u001b[0;32m   1134\u001b[0m               \u001b[0mcallbacks\u001b[0m\u001b[1;33m.\u001b[0m\u001b[0mon_train_batch_begin\u001b[0m\u001b[1;33m(\u001b[0m\u001b[0mstep\u001b[0m\u001b[1;33m)\u001b[0m\u001b[1;33m\u001b[0m\u001b[1;33m\u001b[0m\u001b[0m\n\u001b[1;32m-> 1135\u001b[1;33m               \u001b[0mtmp_logs\u001b[0m \u001b[1;33m=\u001b[0m \u001b[0mself\u001b[0m\u001b[1;33m.\u001b[0m\u001b[0mtrain_function\u001b[0m\u001b[1;33m(\u001b[0m\u001b[0miterator\u001b[0m\u001b[1;33m)\u001b[0m\u001b[1;33m\u001b[0m\u001b[1;33m\u001b[0m\u001b[0m\n\u001b[0m\u001b[0;32m   1136\u001b[0m               \u001b[1;32mif\u001b[0m \u001b[0mdata_handler\u001b[0m\u001b[1;33m.\u001b[0m\u001b[0mshould_sync\u001b[0m\u001b[1;33m:\u001b[0m\u001b[1;33m\u001b[0m\u001b[1;33m\u001b[0m\u001b[0m\n\u001b[0;32m   1137\u001b[0m                 \u001b[0mcontext\u001b[0m\u001b[1;33m.\u001b[0m\u001b[0masync_wait\u001b[0m\u001b[1;33m(\u001b[0m\u001b[1;33m)\u001b[0m\u001b[1;33m\u001b[0m\u001b[1;33m\u001b[0m\u001b[0m\n",
      "\u001b[1;32m~\\AppData\\Roaming\\Python\\Python37\\site-packages\\tensorflow\\python\\eager\\def_function.py\u001b[0m in \u001b[0;36m__call__\u001b[1;34m(self, *args, **kwds)\u001b[0m\n\u001b[0;32m    795\u001b[0m     \u001b[0mtracing_count\u001b[0m \u001b[1;33m=\u001b[0m \u001b[0mself\u001b[0m\u001b[1;33m.\u001b[0m\u001b[0mexperimental_get_tracing_count\u001b[0m\u001b[1;33m(\u001b[0m\u001b[1;33m)\u001b[0m\u001b[1;33m\u001b[0m\u001b[1;33m\u001b[0m\u001b[0m\n\u001b[0;32m    796\u001b[0m     \u001b[1;32mwith\u001b[0m \u001b[0mtrace\u001b[0m\u001b[1;33m.\u001b[0m\u001b[0mTrace\u001b[0m\u001b[1;33m(\u001b[0m\u001b[0mself\u001b[0m\u001b[1;33m.\u001b[0m\u001b[0m_name\u001b[0m\u001b[1;33m)\u001b[0m \u001b[1;32mas\u001b[0m \u001b[0mtm\u001b[0m\u001b[1;33m:\u001b[0m\u001b[1;33m\u001b[0m\u001b[1;33m\u001b[0m\u001b[0m\n\u001b[1;32m--> 797\u001b[1;33m       \u001b[0mresult\u001b[0m \u001b[1;33m=\u001b[0m \u001b[0mself\u001b[0m\u001b[1;33m.\u001b[0m\u001b[0m_call\u001b[0m\u001b[1;33m(\u001b[0m\u001b[1;33m*\u001b[0m\u001b[0margs\u001b[0m\u001b[1;33m,\u001b[0m \u001b[1;33m**\u001b[0m\u001b[0mkwds\u001b[0m\u001b[1;33m)\u001b[0m\u001b[1;33m\u001b[0m\u001b[1;33m\u001b[0m\u001b[0m\n\u001b[0m\u001b[0;32m    798\u001b[0m       \u001b[0mcompiler\u001b[0m \u001b[1;33m=\u001b[0m \u001b[1;34m\"xla\"\u001b[0m \u001b[1;32mif\u001b[0m \u001b[0mself\u001b[0m\u001b[1;33m.\u001b[0m\u001b[0m_jit_compile\u001b[0m \u001b[1;32melse\u001b[0m \u001b[1;34m\"nonXla\"\u001b[0m\u001b[1;33m\u001b[0m\u001b[1;33m\u001b[0m\u001b[0m\n\u001b[0;32m    799\u001b[0m       \u001b[0mnew_tracing_count\u001b[0m \u001b[1;33m=\u001b[0m \u001b[0mself\u001b[0m\u001b[1;33m.\u001b[0m\u001b[0mexperimental_get_tracing_count\u001b[0m\u001b[1;33m(\u001b[0m\u001b[1;33m)\u001b[0m\u001b[1;33m\u001b[0m\u001b[1;33m\u001b[0m\u001b[0m\n",
      "\u001b[1;32m~\\AppData\\Roaming\\Python\\Python37\\site-packages\\tensorflow\\python\\eager\\def_function.py\u001b[0m in \u001b[0;36m_call\u001b[1;34m(self, *args, **kwds)\u001b[0m\n\u001b[0;32m    823\u001b[0m       \u001b[1;31m# In this case we have created variables on the first call, so we run the\u001b[0m\u001b[1;33m\u001b[0m\u001b[1;33m\u001b[0m\u001b[1;33m\u001b[0m\u001b[0m\n\u001b[0;32m    824\u001b[0m       \u001b[1;31m# defunned version which is guaranteed to never create variables.\u001b[0m\u001b[1;33m\u001b[0m\u001b[1;33m\u001b[0m\u001b[1;33m\u001b[0m\u001b[0m\n\u001b[1;32m--> 825\u001b[1;33m       \u001b[1;32mreturn\u001b[0m \u001b[0mself\u001b[0m\u001b[1;33m.\u001b[0m\u001b[0m_stateless_fn\u001b[0m\u001b[1;33m(\u001b[0m\u001b[1;33m*\u001b[0m\u001b[0margs\u001b[0m\u001b[1;33m,\u001b[0m \u001b[1;33m**\u001b[0m\u001b[0mkwds\u001b[0m\u001b[1;33m)\u001b[0m  \u001b[1;31m# pylint: disable=not-callable\u001b[0m\u001b[1;33m\u001b[0m\u001b[1;33m\u001b[0m\u001b[0m\n\u001b[0m\u001b[0;32m    826\u001b[0m     \u001b[1;32melif\u001b[0m \u001b[0mself\u001b[0m\u001b[1;33m.\u001b[0m\u001b[0m_stateful_fn\u001b[0m \u001b[1;32mis\u001b[0m \u001b[1;32mnot\u001b[0m \u001b[1;32mNone\u001b[0m\u001b[1;33m:\u001b[0m\u001b[1;33m\u001b[0m\u001b[1;33m\u001b[0m\u001b[0m\n\u001b[0;32m    827\u001b[0m       \u001b[1;31m# Release the lock early so that multiple threads can perform the call\u001b[0m\u001b[1;33m\u001b[0m\u001b[1;33m\u001b[0m\u001b[1;33m\u001b[0m\u001b[0m\n",
      "\u001b[1;32m~\\AppData\\Roaming\\Python\\Python37\\site-packages\\tensorflow\\python\\eager\\function.py\u001b[0m in \u001b[0;36m__call__\u001b[1;34m(self, *args, **kwargs)\u001b[0m\n\u001b[0;32m   2970\u001b[0m        filtered_flat_args) = self._maybe_define_function(args, kwargs)\n\u001b[0;32m   2971\u001b[0m     return graph_function._call_flat(\n\u001b[1;32m-> 2972\u001b[1;33m         filtered_flat_args, captured_inputs=graph_function.captured_inputs)  # pylint: disable=protected-access\n\u001b[0m\u001b[0;32m   2973\u001b[0m \u001b[1;33m\u001b[0m\u001b[0m\n\u001b[0;32m   2974\u001b[0m   \u001b[1;33m@\u001b[0m\u001b[0mproperty\u001b[0m\u001b[1;33m\u001b[0m\u001b[1;33m\u001b[0m\u001b[0m\n",
      "\u001b[1;32m~\\AppData\\Roaming\\Python\\Python37\\site-packages\\tensorflow\\python\\eager\\function.py\u001b[0m in \u001b[0;36m_call_flat\u001b[1;34m(self, args, captured_inputs, cancellation_manager)\u001b[0m\n\u001b[0;32m   1946\u001b[0m       \u001b[1;31m# No tape is watching; skip to running the function.\u001b[0m\u001b[1;33m\u001b[0m\u001b[1;33m\u001b[0m\u001b[1;33m\u001b[0m\u001b[0m\n\u001b[0;32m   1947\u001b[0m       return self._build_call_outputs(self._inference_function.call(\n\u001b[1;32m-> 1948\u001b[1;33m           ctx, args, cancellation_manager=cancellation_manager))\n\u001b[0m\u001b[0;32m   1949\u001b[0m     forward_backward = self._select_forward_and_backward_functions(\n\u001b[0;32m   1950\u001b[0m         \u001b[0margs\u001b[0m\u001b[1;33m,\u001b[0m\u001b[1;33m\u001b[0m\u001b[1;33m\u001b[0m\u001b[0m\n",
      "\u001b[1;32m~\\AppData\\Roaming\\Python\\Python37\\site-packages\\tensorflow\\python\\eager\\function.py\u001b[0m in \u001b[0;36mcall\u001b[1;34m(self, ctx, args, cancellation_manager)\u001b[0m\n\u001b[0;32m    559\u001b[0m               \u001b[0minputs\u001b[0m\u001b[1;33m=\u001b[0m\u001b[0margs\u001b[0m\u001b[1;33m,\u001b[0m\u001b[1;33m\u001b[0m\u001b[1;33m\u001b[0m\u001b[0m\n\u001b[0;32m    560\u001b[0m               \u001b[0mattrs\u001b[0m\u001b[1;33m=\u001b[0m\u001b[0mattrs\u001b[0m\u001b[1;33m,\u001b[0m\u001b[1;33m\u001b[0m\u001b[1;33m\u001b[0m\u001b[0m\n\u001b[1;32m--> 561\u001b[1;33m               ctx=ctx)\n\u001b[0m\u001b[0;32m    562\u001b[0m         \u001b[1;32melse\u001b[0m\u001b[1;33m:\u001b[0m\u001b[1;33m\u001b[0m\u001b[1;33m\u001b[0m\u001b[0m\n\u001b[0;32m    563\u001b[0m           outputs = execute.execute_with_cancellation(\n",
      "\u001b[1;32m~\\AppData\\Roaming\\Python\\Python37\\site-packages\\tensorflow\\python\\eager\\execute.py\u001b[0m in \u001b[0;36mquick_execute\u001b[1;34m(op_name, num_outputs, inputs, attrs, ctx, name)\u001b[0m\n\u001b[0;32m     58\u001b[0m     \u001b[0mctx\u001b[0m\u001b[1;33m.\u001b[0m\u001b[0mensure_initialized\u001b[0m\u001b[1;33m(\u001b[0m\u001b[1;33m)\u001b[0m\u001b[1;33m\u001b[0m\u001b[1;33m\u001b[0m\u001b[0m\n\u001b[0;32m     59\u001b[0m     tensors = pywrap_tfe.TFE_Py_Execute(ctx._handle, device_name, op_name,\n\u001b[1;32m---> 60\u001b[1;33m                                         inputs, attrs, num_outputs)\n\u001b[0m\u001b[0;32m     61\u001b[0m   \u001b[1;32mexcept\u001b[0m \u001b[0mcore\u001b[0m\u001b[1;33m.\u001b[0m\u001b[0m_NotOkStatusException\u001b[0m \u001b[1;32mas\u001b[0m \u001b[0me\u001b[0m\u001b[1;33m:\u001b[0m\u001b[1;33m\u001b[0m\u001b[1;33m\u001b[0m\u001b[0m\n\u001b[0;32m     62\u001b[0m     \u001b[1;32mif\u001b[0m \u001b[0mname\u001b[0m \u001b[1;32mis\u001b[0m \u001b[1;32mnot\u001b[0m \u001b[1;32mNone\u001b[0m\u001b[1;33m:\u001b[0m\u001b[1;33m\u001b[0m\u001b[1;33m\u001b[0m\u001b[0m\n",
      "\u001b[1;31mKeyboardInterrupt\u001b[0m: "
     ]
    }
   ],
   "source": [
    "# # train model\n",
    "history = model.fit(X_train, y_train,\n",
    "                    validation_data=(X_val, y_val),\n",
    "                    batch_size=64,\n",
    "                    epochs=100)"
   ]
  },
  {
   "cell_type": "code",
   "execution_count": 270,
   "metadata": {
    "ExecuteTime": {
     "end_time": "2021-01-15T19:19:37.024666Z",
     "start_time": "2021-01-15T19:19:36.879057Z"
    }
   },
   "outputs": [
    {
     "data": {
      "text/plain": [
       "[<matplotlib.lines.Line2D at 0x19888ad98c8>]"
      ]
     },
     "execution_count": 270,
     "metadata": {},
     "output_type": "execute_result"
    },
    {
     "data": {
      "image/png": "[encoded data removed]",
      "text/plain": [
       "<Figure size 432x288 with 1 Axes>"
      ]
     },
     "metadata": {
      "needs_background": "light"
     },
     "output_type": "display_data"
    }
   ],
   "source": [
    "plt.plot(history.history['accuracy'])\n",
    "plt.plot(history.history['val_accuracy'])"
   ]
  },
  {
   "cell_type": "code",
   "execution_count": 271,
   "metadata": {
    "ExecuteTime": {
     "end_time": "2021-01-15T19:19:44.119989Z",
     "start_time": "2021-01-15T19:19:44.104961Z"
    }
   },
   "outputs": [],
   "source": [
    "from sklearn.metrics import confusion_matrix, precision_score, recall_score, classification_report"
   ]
  },
  {
   "cell_type": "code",
   "execution_count": 273,
   "metadata": {
    "ExecuteTime": {
     "end_time": "2021-01-15T19:19:46.084713Z",
     "start_time": "2021-01-15T19:19:45.753912Z"
    }
   },
   "outputs": [
    {
     "name": "stdout",
     "output_type": "stream",
     "text": [
      "              precision    recall  f1-score   support\n",
      "\n",
      "           0       0.65      0.56      0.60       211\n",
      "           1       0.85      0.84      0.85       200\n",
      "           2       0.43      0.46      0.44       182\n",
      "           3       0.41      0.38      0.39       204\n",
      "           4       0.56      0.47      0.51       209\n",
      "           5       0.48      0.66      0.56       174\n",
      "           6       0.79      0.81      0.80       205\n",
      "           7       0.70      0.66      0.68       208\n",
      "           8       0.52      0.51      0.51       194\n",
      "           9       0.36      0.37      0.36       213\n",
      "\n",
      "    accuracy                           0.57      2000\n",
      "   macro avg       0.57      0.57      0.57      2000\n",
      "weighted avg       0.58      0.57      0.57      2000\n",
      "\n"
     ]
    }
   ],
   "source": [
    "print(classification_report(y_test.argmax(axis=1), model.predict(X_test).argmax(axis=1)))"
   ]
  },
  {
   "cell_type": "code",
   "execution_count": 278,
   "metadata": {
    "ExecuteTime": {
     "end_time": "2021-01-15T19:44:11.658097Z",
     "start_time": "2021-01-15T19:44:10.517413Z"
    }
   },
   "outputs": [
    {
     "name": "stdout",
     "output_type": "stream",
     "text": [
      "              precision    recall  f1-score   support\n",
      "\n",
      "           0       1.00      1.00      1.00       470\n",
      "           1       1.00      1.00      1.00       488\n",
      "           2       1.00      1.00      1.00       501\n",
      "           3       1.00      1.00      1.00       475\n",
      "           4       1.00      1.00      1.00       475\n",
      "           5       1.00      1.00      1.00       505\n",
      "           6       1.00      0.99      1.00       464\n",
      "           7       1.00      1.00      1.00       477\n",
      "           8       1.00      1.00      1.00       487\n",
      "           9       0.99      1.00      1.00       458\n",
      "\n",
      "    accuracy                           1.00      4800\n",
      "   macro avg       1.00      1.00      1.00      4800\n",
      "weighted avg       1.00      1.00      1.00      4800\n",
      "\n"
     ]
    }
   ],
   "source": [
    "print(classification_report(y_train.argmax(axis=1), model.predict(X_train).argmax(axis=1)))"
   ]
  },
  {
   "cell_type": "code",
   "execution_count": 275,
   "metadata": {
    "ExecuteTime": {
     "end_time": "2021-01-15T19:20:02.148860Z",
     "start_time": "2021-01-15T19:20:02.136922Z"
    }
   },
   "outputs": [
    {
     "data": {
      "text/plain": [
       "array([211., 200., 182., 204., 209., 174., 205., 208., 194., 213.])"
      ]
     },
     "execution_count": 275,
     "metadata": {},
     "output_type": "execute_result"
    }
   ],
   "source": [
    "y_test.sum(axis=0)"
   ]
  },
  {
   "cell_type": "code",
   "execution_count": 276,
   "metadata": {
    "ExecuteTime": {
     "end_time": "2021-01-15T19:20:03.490924Z",
     "start_time": "2021-01-15T19:20:03.143296Z"
    }
   },
   "outputs": [
    {
     "name": "stdout",
     "output_type": "stream",
     "text": [
      "63/63 - 0s - loss: 4.3761 - accuracy: 0.5715\n",
      "\n",
      "Test accuracy: 0.5715000033378601\n"
     ]
    }
   ],
   "source": [
    "test_loss, test_acc = model.evaluate(X_test, y_test, verbose=2)\n",
    "print('\\nTest accuracy:', test_acc)"
   ]
  },
  {
   "cell_type": "code",
   "execution_count": null,
   "metadata": {},
   "outputs": [],
   "source": []
  }
 ],
 "metadata": {
  "kernelspec": {
   "display_name": "Python 3",
   "language": "python",
   "name": "python3"
  },
  "language_info": {
   "codemirror_mode": {
    "name": "ipython",
    "version": 3
   },
   "file_extension": ".py",
   "mimetype": "text/x-python",
   "name": "python",
   "nbconvert_exporter": "python",
   "pygments_lexer": "ipython3",
   "version": "3.7.9"
  }
 },
 "nbformat": 4,
 "nbformat_minor": 4
}
