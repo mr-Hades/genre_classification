{
 "cells": [
  {
   "cell_type": "code",
   "execution_count": 1,
   "metadata": {
    "ExecuteTime": {
     "end_time": "2021-01-15T18:58:07.731163Z",
     "start_time": "2021-01-15T18:58:06.679839Z"
    }
   },
   "outputs": [],
   "source": [
    "from python_speech_features import mfcc\n",
    "import scipy.io.wavfile as wav\n",
    "import numpy as np\n",
    "import os\n",
    "from tqdm.notebook import tqdm\n",
    "import pickle\n",
    "from sklearn.model_selection import train_test_split"
   ]
  },
  {
   "cell_type": "code",
   "execution_count": 2,
   "metadata": {
    "ExecuteTime": {
     "end_time": "2021-01-15T18:58:07.746655Z",
     "start_time": "2021-01-15T18:58:07.734688Z"
    }
   },
   "outputs": [],
   "source": [
    "DATASET_PATH = './genres'\n",
    "FEATURES_PATH = f'{DATASET_PATH}/features_svm.pkl'"
   ]
  },
  {
   "cell_type": "code",
   "execution_count": 3,
   "metadata": {
    "ExecuteTime": {
     "end_time": "2021-01-15T18:58:07.762641Z",
     "start_time": "2021-01-15T18:58:07.749647Z"
    }
   },
   "outputs": [
    {
     "data": {
      "text/plain": [
       "['blues',\n",
       " 'classical',\n",
       " 'country',\n",
       " 'disco',\n",
       " 'hiphop',\n",
       " 'jazz',\n",
       " 'metal',\n",
       " 'pop',\n",
       " 'reggae',\n",
       " 'rock']"
      ]
     },
     "execution_count": 3,
     "metadata": {},
     "output_type": "execute_result"
    }
   ],
   "source": [
    "genres = [path for path in os.listdir(DATASET_PATH) if '.' not in path]\n",
    "genres"
   ]
  },
  {
   "cell_type": "code",
   "execution_count": 4,
   "metadata": {
    "ExecuteTime": {
     "end_time": "2021-01-15T18:58:07.778571Z",
     "start_time": "2021-01-15T18:58:07.768597Z"
    }
   },
   "outputs": [
    {
     "data": {
      "text/plain": [
       "{'blues': 0,\n",
       " 'classical': 1,\n",
       " 'country': 2,\n",
       " 'disco': 3,\n",
       " 'hiphop': 4,\n",
       " 'jazz': 5,\n",
       " 'metal': 6,\n",
       " 'pop': 7,\n",
       " 'reggae': 8,\n",
       " 'rock': 9}"
      ]
     },
     "execution_count": 4,
     "metadata": {},
     "output_type": "execute_result"
    }
   ],
   "source": [
    "genre_to_num = {genre: i for i, genre in enumerate(genres)}\n",
    "genre_to_num"
   ]
  },
  {
   "cell_type": "code",
   "execution_count": 5,
   "metadata": {
    "ExecuteTime": {
     "end_time": "2021-01-15T18:58:07.794563Z",
     "start_time": "2021-01-15T18:58:07.779567Z"
    }
   },
   "outputs": [
    {
     "data": {
      "text/plain": [
       "{0: 'blues',\n",
       " 1: 'classical',\n",
       " 2: 'country',\n",
       " 3: 'disco',\n",
       " 4: 'hiphop',\n",
       " 5: 'jazz',\n",
       " 6: 'metal',\n",
       " 7: 'pop',\n",
       " 8: 'reggae',\n",
       " 9: 'rock'}"
      ]
     },
     "execution_count": 5,
     "metadata": {},
     "output_type": "execute_result"
    }
   ],
   "source": [
    "num_to_genre = dict(enumerate(genres))\n",
    "num_to_genre"
   ]
  },
  {
   "cell_type": "code",
   "execution_count": 6,
   "metadata": {
    "ExecuteTime": {
     "end_time": "2021-01-15T18:58:08.636926Z",
     "start_time": "2021-01-15T18:58:07.797521Z"
    }
   },
   "outputs": [],
   "source": [
    "import librosa\n",
    "from scipy.stats import skew"
   ]
  },
  {
   "cell_type": "code",
   "execution_count": 7,
   "metadata": {
    "ExecuteTime": {
     "end_time": "2021-01-15T18:58:08.652888Z",
     "start_time": "2021-01-15T18:58:08.638920Z"
    }
   },
   "outputs": [],
   "source": [
    "def get_features(wav_path, rate=22050):\n",
    "    data, _ = librosa.core.load(wav_path, sr = rate)\n",
    "    ft1 = librosa.feature.mfcc(data, sr = rate, n_mfcc=13)\n",
    "    ft2 = librosa.feature.zero_crossing_rate(data)[0]\n",
    "    ft3 = librosa.feature.spectral_rolloff(data)[0]\n",
    "    ft4 = librosa.feature.spectral_centroid(data)[0]\n",
    "    ft5 = librosa.feature.spectral_contrast(data)[0]\n",
    "    ft6 = librosa.feature.spectral_bandwidth(data)[0]\n",
    "    ft1_trunc = np.hstack((np.mean(ft1, axis=1), np.std(ft1, axis=1), skew(ft1, axis = 1), np.max(ft1, axis = 1), np.median(ft1, axis = 1), np.min(ft1, axis = 1)))\n",
    "    ft2_trunc = np.hstack((np.mean(ft2), np.std(ft2), skew(ft2), np.max(ft2), np.median(ft2), np.min(ft2)))\n",
    "    ft3_trunc = np.hstack((np.mean(ft3), np.std(ft3), skew(ft3), np.max(ft3), np.median(ft3), np.min(ft3)))\n",
    "    ft4_trunc = np.hstack((np.mean(ft4), np.std(ft4), skew(ft4), np.max(ft4), np.median(ft4), np.min(ft4)))\n",
    "    ft5_trunc = np.hstack((np.mean(ft5), np.std(ft5), skew(ft5), np.max(ft5), np.median(ft5), np.min(ft5)))\n",
    "    ft6_trunc = np.hstack((np.mean(ft6), np.std(ft6), skew(ft6), np.max(ft6), np.median(ft6), np.max(ft6)))\n",
    "    return np.hstack((ft1_trunc, ft2_trunc, ft3_trunc, ft4_trunc, ft5_trunc, ft6_trunc))"
   ]
  },
  {
   "cell_type": "code",
   "execution_count": 51,
   "metadata": {
    "ExecuteTime": {
     "end_time": "2021-01-15T18:32:45.265312Z",
     "start_time": "2021-01-15T18:32:44.818509Z"
    }
   },
   "outputs": [
    {
     "data": {
      "application/vnd.jupyter.widget-view+json": {
       "model_id": "51aa8c5376a243c2a01f0c0c07c733d9",
       "version_major": 2,
       "version_minor": 0
      },
      "text/plain": [
       "HBox(children=(HTML(value=''), FloatProgress(value=0.0, max=1.0), HTML(value='')))"
      ]
     },
     "metadata": {},
     "output_type": "display_data"
    },
    {
     "name": "stdout",
     "output_type": "stream",
     "text": [
      "\n"
     ]
    },
    {
     "data": {
      "text/plain": [
       "array([-8.08921967e+01,  8.47820816e+01, -3.15480289e+01,  3.39053116e+01,\n",
       "       -1.98489189e+01,  2.35588837e+01, -2.21487579e+01,  2.00262260e+01,\n",
       "       -1.67810364e+01,  1.92165146e+01, -1.31140451e+01,  1.14986544e+01,\n",
       "       -1.07295685e+01,  6.98513412e+01,  2.73957920e+01,  2.34281330e+01,\n",
       "        2.01807690e+01,  1.26004086e+01,  1.16385260e+01,  9.68514729e+00,\n",
       "        9.83020878e+00,  9.67762852e+00,  7.47023535e+00,  8.66638279e+00,\n",
       "        7.24333811e+00,  8.60036278e+00, -9.35900688e-01,  4.07580078e-01,\n",
       "        4.72338736e-01, -3.52820665e-01, -4.60751653e-02, -9.01150778e-02,\n",
       "        2.21833717e-02, -4.44833338e-02,  3.16404812e-02, -1.02824897e-01,\n",
       "        3.98396999e-01, -8.12162831e-03,  3.29952389e-02,  5.48079453e+01,\n",
       "        2.09831055e+02,  5.70010986e+01,  9.12448730e+01,  2.18620644e+01,\n",
       "        6.12939796e+01,  8.14974213e+00,  4.72032051e+01,  1.99516659e+01,\n",
       "        4.08543167e+01,  1.67455673e+01,  3.27091675e+01,  1.48384886e+01,\n",
       "       -7.35319366e+01,  8.38262024e+01, -3.42218781e+01,  3.45157928e+01,\n",
       "       -1.94745159e+01,  2.37350388e+01, -2.23647079e+01,  2.01194077e+01,\n",
       "       -1.69913692e+01,  1.93207855e+01, -1.40273371e+01,  1.14608421e+01,\n",
       "       -1.05054531e+01, -4.23037292e+02, -1.14876461e+01, -1.05531891e+02,\n",
       "       -3.22515831e+01, -6.02001114e+01, -1.34779434e+01, -5.12050972e+01,\n",
       "       -7.09627533e+00, -5.32595139e+01, -6.49281502e+00, -3.41844864e+01,\n",
       "       -1.85370407e+01, -3.37916908e+01,  1.47308751e-01,  5.37699009e-02,\n",
       "        3.48390087e-01,  3.67187500e-01,  1.42578125e-01,  1.56250000e-02,\n",
       "        5.47531234e+03,  1.25066318e+03, -6.81142285e-01,  8.06418457e+03,\n",
       "        5.58786621e+03,  1.32429199e+03,  2.66794050e+03,  6.46933539e+02,\n",
       "        1.15169440e-01,  5.25947435e+03,  2.65984470e+03,  9.15174594e+02,\n",
       "        1.69001153e+01,  4.22629567e+00,  7.61443935e-01,  4.62057020e+01,\n",
       "        1.65755632e+01,  6.52715331e+00,  2.35116074e+03,  3.28373770e+02,\n",
       "       -5.03701698e-01,  3.23292094e+03,  2.39104599e+03,  3.23292094e+03])"
      ]
     },
     "execution_count": 51,
     "metadata": {},
     "output_type": "execute_result"
    }
   ],
   "source": [
    "genre_folders = [path for path in os.listdir(DATASET_PATH) if '.' not in path]\n",
    "for genre_name in tqdm(genre_folders[4:5]):\n",
    "    wavs_list = os.listdir(f'{DATASET_PATH}/{genre_name}')\n",
    "    for w in wavs_list[:1]:\n",
    "        wav_path = f'{DATASET_PATH}/{genre_name}/{w}'\n",
    "        feat = get_features(wav_path)\n",
    "feat"
   ]
  },
  {
   "cell_type": "code",
   "execution_count": null,
   "metadata": {},
   "outputs": [],
   "source": []
  },
  {
   "cell_type": "code",
   "execution_count": 52,
   "metadata": {
    "ExecuteTime": {
     "end_time": "2021-01-15T18:33:45.684128Z",
     "start_time": "2021-01-15T18:33:45.670167Z"
    }
   },
   "outputs": [],
   "source": [
    "def create_save_features(dataset_path: str, out_dir: str):\n",
    "    data = {}\n",
    "    data['mfcc'] = []\n",
    "    data['label'] = []\n",
    "    \"\"\" gets list of folders cotaining wavs and returns created mfcc features and label's csv\"\"\"\n",
    "    genre_folders = [path for path in os.listdir(dataset_path) if '.' not in path]\n",
    "    for genre_name in tqdm(genre_folders):\n",
    "        wavs_list = os.listdir(f'{dataset_path}/{genre_name}')\n",
    "        for wav in tqdm(wavs_list):\n",
    "            wav_path = f'{dataset_path}/{genre_name}/{wav}'\n",
    "            data['mfcc'].append(get_features(wav_path).T)\n",
    "            data['label'].append(genre_to_num[genre_name])\n",
    "            \n",
    "    with open(out_dir, 'wb') as f:\n",
    "        pickle.dump(data, f)"
   ]
  },
  {
   "cell_type": "code",
   "execution_count": 54,
   "metadata": {
    "ExecuteTime": {
     "end_time": "2021-01-15T18:41:50.086050Z",
     "start_time": "2021-01-15T18:34:04.756815Z"
    },
    "scrolled": true
   },
   "outputs": [
    {
     "data": {
      "application/vnd.jupyter.widget-view+json": {
       "model_id": "73abd7477d0a455391c5103595f0fa42",
       "version_major": 2,
       "version_minor": 0
      },
      "text/plain": [
       "HBox(children=(HTML(value=''), FloatProgress(value=0.0, max=10.0), HTML(value='')))"
      ]
     },
     "metadata": {},
     "output_type": "display_data"
    },
    {
     "data": {
      "application/vnd.jupyter.widget-view+json": {
       "model_id": "6e0810823314410fb0593b08bb1c8a01",
       "version_major": 2,
       "version_minor": 0
      },
      "text/plain": [
       "HBox(children=(HTML(value=''), FloatProgress(value=0.0), HTML(value='')))"
      ]
     },
     "metadata": {},
     "output_type": "display_data"
    },
    {
     "name": "stdout",
     "output_type": "stream",
     "text": [
      "\n"
     ]
    },
    {
     "data": {
      "application/vnd.jupyter.widget-view+json": {
       "model_id": "2d7c588a668b4729a3846c9c91e62584",
       "version_major": 2,
       "version_minor": 0
      },
      "text/plain": [
       "HBox(children=(HTML(value=''), FloatProgress(value=0.0), HTML(value='')))"
      ]
     },
     "metadata": {},
     "output_type": "display_data"
    },
    {
     "name": "stdout",
     "output_type": "stream",
     "text": [
      "\n"
     ]
    },
    {
     "data": {
      "application/vnd.jupyter.widget-view+json": {
       "model_id": "ea99cc19fa1e4af989cfd14463f61363",
       "version_major": 2,
       "version_minor": 0
      },
      "text/plain": [
       "HBox(children=(HTML(value=''), FloatProgress(value=0.0), HTML(value='')))"
      ]
     },
     "metadata": {},
     "output_type": "display_data"
    },
    {
     "name": "stdout",
     "output_type": "stream",
     "text": [
      "\n"
     ]
    },
    {
     "data": {
      "application/vnd.jupyter.widget-view+json": {
       "model_id": "8e3f58dd8f274ac2af87a3b86658d1ff",
       "version_major": 2,
       "version_minor": 0
      },
      "text/plain": [
       "HBox(children=(HTML(value=''), FloatProgress(value=0.0), HTML(value='')))"
      ]
     },
     "metadata": {},
     "output_type": "display_data"
    },
    {
     "name": "stdout",
     "output_type": "stream",
     "text": [
      "\n"
     ]
    },
    {
     "data": {
      "application/vnd.jupyter.widget-view+json": {
       "model_id": "d645916984bd4fd796b5bc18c537a700",
       "version_major": 2,
       "version_minor": 0
      },
      "text/plain": [
       "HBox(children=(HTML(value=''), FloatProgress(value=0.0), HTML(value='')))"
      ]
     },
     "metadata": {},
     "output_type": "display_data"
    },
    {
     "name": "stdout",
     "output_type": "stream",
     "text": [
      "\n"
     ]
    },
    {
     "data": {
      "application/vnd.jupyter.widget-view+json": {
       "model_id": "5880d3f94df94b57aaaf30c95b0cc6de",
       "version_major": 2,
       "version_minor": 0
      },
      "text/plain": [
       "HBox(children=(HTML(value=''), FloatProgress(value=0.0), HTML(value='')))"
      ]
     },
     "metadata": {},
     "output_type": "display_data"
    },
    {
     "name": "stdout",
     "output_type": "stream",
     "text": [
      "\n"
     ]
    },
    {
     "data": {
      "application/vnd.jupyter.widget-view+json": {
       "model_id": "b10ee80740894632aa50184605303c1e",
       "version_major": 2,
       "version_minor": 0
      },
      "text/plain": [
       "HBox(children=(HTML(value=''), FloatProgress(value=0.0), HTML(value='')))"
      ]
     },
     "metadata": {},
     "output_type": "display_data"
    },
    {
     "name": "stdout",
     "output_type": "stream",
     "text": [
      "\n"
     ]
    },
    {
     "data": {
      "application/vnd.jupyter.widget-view+json": {
       "model_id": "82bb39fc1de04c89abf6c256fb315bf9",
       "version_major": 2,
       "version_minor": 0
      },
      "text/plain": [
       "HBox(children=(HTML(value=''), FloatProgress(value=0.0), HTML(value='')))"
      ]
     },
     "metadata": {},
     "output_type": "display_data"
    },
    {
     "name": "stdout",
     "output_type": "stream",
     "text": [
      "\n"
     ]
    },
    {
     "data": {
      "application/vnd.jupyter.widget-view+json": {
       "model_id": "289a652b6859454c945f3d3d0b2f1af6",
       "version_major": 2,
       "version_minor": 0
      },
      "text/plain": [
       "HBox(children=(HTML(value=''), FloatProgress(value=0.0), HTML(value='')))"
      ]
     },
     "metadata": {},
     "output_type": "display_data"
    },
    {
     "name": "stdout",
     "output_type": "stream",
     "text": [
      "\n"
     ]
    },
    {
     "data": {
      "application/vnd.jupyter.widget-view+json": {
       "model_id": "2268ea8f70444c80b2e2ab76f6bfadaa",
       "version_major": 2,
       "version_minor": 0
      },
      "text/plain": [
       "HBox(children=(HTML(value=''), FloatProgress(value=0.0), HTML(value='')))"
      ]
     },
     "metadata": {},
     "output_type": "display_data"
    },
    {
     "name": "stdout",
     "output_type": "stream",
     "text": [
      "\n",
      "\n"
     ]
    }
   ],
   "source": [
    "create_save_features(DATASET_PATH, FEATURES_PATH)"
   ]
  },
  {
   "cell_type": "code",
   "execution_count": 29,
   "metadata": {
    "ExecuteTime": {
     "end_time": "2021-01-15T17:29:28.092004Z",
     "start_time": "2021-01-15T17:29:28.087017Z"
    }
   },
   "outputs": [],
   "source": [
    "#  with open(FEATURES_PATH, \"rb\") as f:\n",
    "#     data = pickle.load(f)\n",
    "# set([it.shape for it in data['mfcc']])"
   ]
  },
  {
   "cell_type": "markdown",
   "metadata": {},
   "source": [
    "### loading data"
   ]
  },
  {
   "cell_type": "code",
   "execution_count": 8,
   "metadata": {
    "ExecuteTime": {
     "end_time": "2021-01-15T18:58:11.140032Z",
     "start_time": "2021-01-15T18:58:11.129020Z"
    }
   },
   "outputs": [],
   "source": [
    "def load_data(data_path):\n",
    "    with open(data_path, \"rb\") as f:\n",
    "        data = pickle.load(f)\n",
    "\n",
    "    X = np.stack(data[\"mfcc\"], axis=0)\n",
    "    y = np.array(data[\"label\"])\n",
    "    return X, y"
   ]
  },
  {
   "cell_type": "code",
   "execution_count": 9,
   "metadata": {
    "ExecuteTime": {
     "end_time": "2021-01-15T18:58:11.450972Z",
     "start_time": "2021-01-15T18:58:11.441958Z"
    }
   },
   "outputs": [],
   "source": [
    "def ttf_split(data, test_size, val_size, seed=1234):\n",
    "    X_train, X_test, y_train, y_test = train_test_split(*data, test_size=test_size, random_state=seed)\n",
    "    X_train, X_validation, y_train, y_validation = train_test_split(X_train, y_train, test_size=val_size, random_state=seed)\n",
    "\n",
    "    return X_train, X_validation, X_test, y_train, y_validation, y_test"
   ]
  },
  {
   "cell_type": "code",
   "execution_count": null,
   "metadata": {},
   "outputs": [],
   "source": []
  },
  {
   "cell_type": "code",
   "execution_count": 10,
   "metadata": {
    "ExecuteTime": {
     "end_time": "2021-01-15T18:58:13.448382Z",
     "start_time": "2021-01-15T18:58:13.426413Z"
    }
   },
   "outputs": [
    {
     "data": {
      "text/plain": [
       "((1000, 108), (1000,))"
      ]
     },
     "execution_count": 10,
     "metadata": {},
     "output_type": "execute_result"
    }
   ],
   "source": [
    "X, y = load_data(FEATURES_PATH)\n",
    "X.shape, y.shape"
   ]
  },
  {
   "cell_type": "code",
   "execution_count": 166,
   "metadata": {
    "ExecuteTime": {
     "end_time": "2021-01-15T19:14:04.612399Z",
     "start_time": "2021-01-15T19:14:04.601428Z"
    }
   },
   "outputs": [],
   "source": [
    "test_size = 0.25\n",
    "X_train, X_test, y_train, y_test = train_test_split(X, y, test_size=test_size, random_state=4321)"
   ]
  },
  {
   "cell_type": "code",
   "execution_count": 176,
   "metadata": {
    "ExecuteTime": {
     "end_time": "2021-01-15T19:42:52.725431Z",
     "start_time": "2021-01-15T19:42:52.720446Z"
    }
   },
   "outputs": [],
   "source": [
    "from sklearn.metrics import classification_report\n",
    "from sklearn.preprocessing import StandardScaler"
   ]
  },
  {
   "cell_type": "code",
   "execution_count": 168,
   "metadata": {
    "ExecuteTime": {
     "end_time": "2021-01-15T19:14:05.032499Z",
     "start_time": "2021-01-15T19:14:05.012552Z"
    }
   },
   "outputs": [],
   "source": [
    "scaler = StandardScaler()\n",
    "X_train_scaled = scaler.fit_transform(X_train)\n",
    "X_test_scaled = scaler.transform(X_test)"
   ]
  },
  {
   "cell_type": "code",
   "execution_count": 169,
   "metadata": {
    "ExecuteTime": {
     "end_time": "2021-01-15T19:14:05.174296Z",
     "start_time": "2021-01-15T19:14:05.168314Z"
    }
   },
   "outputs": [],
   "source": [
    "from sklearn.decomposition import PCA"
   ]
  },
  {
   "cell_type": "code",
   "execution_count": 170,
   "metadata": {
    "ExecuteTime": {
     "end_time": "2021-01-15T19:14:05.329390Z",
     "start_time": "2021-01-15T19:14:05.319417Z"
    }
   },
   "outputs": [
    {
     "name": "stdout",
     "output_type": "stream",
     "text": [
      "0.9208609755863255\n"
     ]
    }
   ],
   "source": [
    "pca = PCA(n_components=30).fit(X_train_scaled)\n",
    "X_train_pca = pca.transform(X_train_scaled)\n",
    "X_test_pca = pca.transform(X_test_scaled)\n",
    "\n",
    "print(sum(pca.explained_variance_ratio_)) "
   ]
  },
  {
   "cell_type": "code",
   "execution_count": null,
   "metadata": {},
   "outputs": [],
   "source": []
  },
  {
   "cell_type": "code",
   "execution_count": 171,
   "metadata": {
    "ExecuteTime": {
     "end_time": "2021-01-15T19:14:05.858056Z",
     "start_time": "2021-01-15T19:14:05.854066Z"
    }
   },
   "outputs": [],
   "source": [
    "from thundersvm import SVC"
   ]
  },
  {
   "cell_type": "code",
   "execution_count": 172,
   "metadata": {
    "ExecuteTime": {
     "end_time": "2021-01-15T19:14:10.743407Z",
     "start_time": "2021-01-15T19:14:06.293454Z"
    }
   },
   "outputs": [
    {
     "data": {
      "text/plain": [
       "SVC(C=1, class_weight={}, probability=True)"
      ]
     },
     "execution_count": 172,
     "metadata": {},
     "output_type": "execute_result"
    }
   ],
   "source": [
    "clf = SVC(kernel = 'rbf', C=1, probability=True)\n",
    "clf.fit(X_train_pca, y_train)"
   ]
  },
  {
   "cell_type": "code",
   "execution_count": 173,
   "metadata": {
    "ExecuteTime": {
     "end_time": "2021-01-15T19:14:10.993020Z",
     "start_time": "2021-01-15T19:14:10.744405Z"
    }
   },
   "outputs": [
    {
     "name": "stdout",
     "output_type": "stream",
     "text": [
      "0.984\n"
     ]
    }
   ],
   "source": [
    "print(accuracy_score(clf.predict(X_train_pca), y_train))"
   ]
  },
  {
   "cell_type": "code",
   "execution_count": 177,
   "metadata": {
    "ExecuteTime": {
     "end_time": "2021-01-15T19:42:54.522873Z",
     "start_time": "2021-01-15T19:42:54.392223Z"
    }
   },
   "outputs": [
    {
     "name": "stdout",
     "output_type": "stream",
     "text": [
      "              precision    recall  f1-score   support\n",
      "\n",
      "         0.0       0.64      0.78      0.70        18\n",
      "         1.0       0.90      0.90      0.90        30\n",
      "         2.0       0.58      0.61      0.60        23\n",
      "         3.0       0.76      0.63      0.69        35\n",
      "         4.0       0.65      0.74      0.69        23\n",
      "         5.0       0.81      0.57      0.67        30\n",
      "         6.0       0.83      0.77      0.80        26\n",
      "         7.0       0.73      0.76      0.75        25\n",
      "         8.0       0.62      0.62      0.62        21\n",
      "         9.0       0.48      0.68      0.57        19\n",
      "\n",
      "    accuracy                           0.70       250\n",
      "   macro avg       0.70      0.71      0.70       250\n",
      "weighted avg       0.72      0.70      0.71       250\n",
      "\n"
     ]
    }
   ],
   "source": [
    "print(classification_report(clf.predict(X_test_pca), y_test))"
   ]
  },
  {
   "cell_type": "code",
   "execution_count": null,
   "metadata": {},
   "outputs": [],
   "source": []
  }
 ],
 "metadata": {
  "kernelspec": {
   "display_name": "Python 3",
   "language": "python",
   "name": "python3"
  },
  "language_info": {
   "codemirror_mode": {
    "name": "ipython",
    "version": 3
   },
   "file_extension": ".py",
   "mimetype": "text/x-python",
   "name": "python",
   "nbconvert_exporter": "python",
   "pygments_lexer": "ipython3",
   "version": "3.7.9"
  }
 },
 "nbformat": 4,
 "nbformat_minor": 4
}
